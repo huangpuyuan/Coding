{
 "cells": [
  {
   "cell_type": "code",
   "execution_count": 4,
   "id": "1c859d31-aa08-4b17-a2f3-51c222e9175a",
   "metadata": {},
   "outputs": [
    {
     "name": "stdout",
     "output_type": "stream",
     "text": [
      "行星数据集的前几行:\n",
      "             method  number  orbital_period   mass  distance  year\n",
      "0  Radial Velocity       1         269.300   7.10     77.40  2006\n",
      "1  Radial Velocity       1         874.774   2.21     56.95  2008\n",
      "2  Radial Velocity       1         763.000   2.60     19.84  2011\n",
      "3  Radial Velocity       1         326.030  19.40    110.62  2007\n",
      "4  Radial Velocity       1         516.220  10.50    119.47  2009\n",
      "\n",
      "数据集信息:\n",
      "<class 'pandas.core.frame.DataFrame'>\n",
      "RangeIndex: 1035 entries, 0 to 1034\n",
      "Data columns (total 6 columns):\n",
      " #   Column          Non-Null Count  Dtype  \n",
      "---  ------          --------------  -----  \n",
      " 0   method          1035 non-null   object \n",
      " 1   number          1035 non-null   int64  \n",
      " 2   orbital_period  992 non-null    float64\n",
      " 3   mass            513 non-null    float64\n",
      " 4   distance        808 non-null    float64\n",
      " 5   year            1035 non-null   int64  \n",
      "dtypes: float64(3), int64(2), object(1)\n",
      "memory usage: 48.6+ KB\n",
      "None\n"
     ]
    }
   ],
   "source": [
    "import pandas as pd\n",
    "import seaborn as sns\n",
    "import matplotlib.pyplot as plt\n",
    "from sklearn.model_selection import train_test_split\n",
    "from sklearn.linear_model import LinearRegression\n",
    "from sklearn.metrics import mean_squared_error\n",
    "\n",
    "# 1. 加载行星数据集\n",
    "# planets = sns.load_dataset('planets') 网络加载\n",
    "# 本地加载\n",
    "file_path = 'planets.csv' \n",
    "planets = pd.read_csv(file_path)\n",
    "\n",
    "# 2. 显示数据集的前几行 和 数据概览\n",
    "print(\"行星数据集的前几行:\\n\", planets.head())\n",
    "print(\"\\n数据集信息:\")\n",
    "print(planets.info())"
   ]
  },
  {
   "cell_type": "code",
   "execution_count": 6,
   "id": "670b3af0-cadc-46dd-9c86-85fd36ee697f",
   "metadata": {},
   "outputs": [
    {
     "ename": "NameError",
     "evalue": "name 'planets_cleaned' is not defined",
     "output_type": "error",
     "traceback": [
      "\u001b[1;31m---------------------------------------------------------------------------\u001b[0m",
      "\u001b[1;31mNameError\u001b[0m                                 Traceback (most recent call last)",
      "Cell \u001b[1;32mIn[6], line 3\u001b[0m\n\u001b[0;32m      1\u001b[0m \u001b[38;5;66;03m# 3. 选择特征和目标变量\u001b[39;00m\n\u001b[0;32m      2\u001b[0m \u001b[38;5;66;03m# 这里我们选择 'year' 作为特征，'mass' 作为目标变量\u001b[39;00m\n\u001b[1;32m----> 3\u001b[0m X \u001b[38;5;241m=\u001b[39m planets_cleaned[[\u001b[38;5;124m'\u001b[39m\u001b[38;5;124myear\u001b[39m\u001b[38;5;124m'\u001b[39m]]\n\u001b[0;32m      4\u001b[0m y \u001b[38;5;241m=\u001b[39m planets_cleaned[\u001b[38;5;124m'\u001b[39m\u001b[38;5;124mmass\u001b[39m\u001b[38;5;124m'\u001b[39m]\n\u001b[0;32m      6\u001b[0m \u001b[38;5;66;03m# 4. 划分训练集和测试集\u001b[39;00m\n",
      "\u001b[1;31mNameError\u001b[0m: name 'planets_cleaned' is not defined"
     ]
    }
   ],
   "source": [
    "# 2. 数据清洗：删除缺失值\n",
    "planets_cleaned = planets.dropna()\n",
    "\n",
    "# 3. 选择特征和目标变量\n",
    "# 这里我们选择 'year' 作为特征，'mass' 作为目标变量\n",
    "X = planets_cleaned[['year']]\n",
    "y = planets_cleaned['mass']\n",
    "\n",
    "# 4. 划分训练集和测试集\n",
    "X_train, X_test, y_train, y_test = train_test_split(X, y, test_size=0.2, random_state=42)"
   ]
  },
  {
   "cell_type": "code",
   "execution_count": null,
   "id": "de3d3e89-20d0-4708-afdd-14a9bf015db7",
   "metadata": {},
   "outputs": [],
   "source": []
  }
 ],
 "metadata": {
  "kernelspec": {
   "display_name": "Python 3 (ipykernel)",
   "language": "python",
   "name": "python3"
  },
  "language_info": {
   "codemirror_mode": {
    "name": "ipython",
    "version": 3
   },
   "file_extension": ".py",
   "mimetype": "text/x-python",
   "name": "python",
   "nbconvert_exporter": "python",
   "pygments_lexer": "ipython3",
   "version": "3.12.4"
  }
 },
 "nbformat": 4,
 "nbformat_minor": 5
}
