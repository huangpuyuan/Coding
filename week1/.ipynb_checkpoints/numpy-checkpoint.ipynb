{
 "cells": [
  {
   "cell_type": "code",
   "execution_count": 7,
   "id": "2f9de008-0247-4f79-aaa2-edf8171edd2f",
   "metadata": {},
   "outputs": [],
   "source": [
    "import numpy as np"
   ]
  },
  {
   "cell_type": "code",
   "execution_count": 8,
   "id": "a64f6162-80a9-4c0a-9fd0-837d977fdcca",
   "metadata": {},
   "outputs": [
    {
     "name": "stdout",
     "output_type": "stream",
     "text": [
      "一维数组: [1 2 3 4 5]\n",
      "二维数组:\n",
      " [[1 2 3]\n",
      " [4 5 6]]\n",
      "全零数组:\n",
      " [[0. 0. 0.]\n",
      " [0. 0. 0.]]\n",
      "全一数组:\n",
      " [[1. 1. 1.]\n",
      " [1. 1. 1.]]\n",
      "等间隔数组: [0 2 4 6 8]\n",
      "线性空间数组: [0.   0.25 0.5  0.75 1.  ]\n"
     ]
    }
   ],
   "source": [
    "# 创建 NumPy 数组\n",
    "# 创建一维数组\n",
    "array_1d = np.array([1, 2, 3, 4, 5])\n",
    "print(\"一维数组:\", array_1d)\n",
    "\n",
    "# 创建二维数组\n",
    "array_2d = np.array([[1, 2, 3], [4, 5, 6]])\n",
    "print(\"二维数组:\\n\", array_2d)\n",
    "\n",
    "# 创建全零数组\n",
    "zeros_array = np.zeros((2, 3))\n",
    "print(\"全零数组:\\n\", zeros_array)\n",
    "\n",
    "# 创建全一数组\n",
    "ones_array = np.ones((2, 3))\n",
    "print(\"全一数组:\\n\", ones_array)\n",
    "\n",
    "# 创建等间隔数组\n",
    "arange_array = np.arange(0, 10, 2)\n",
    "print(\"等间隔数组:\", arange_array)\n",
    "\n",
    "# 创建线性空间数组\n",
    "linspace_array = np.linspace(0, 1, 5)\n",
    "print(\"线性空间数组:\", linspace_array)"
   ]
  },
  {
   "cell_type": "code",
   "execution_count": 9,
   "id": "97e40ece-4bff-4f13-aa44-ea3b83745caa",
   "metadata": {},
   "outputs": [
    {
     "name": "stdout",
     "output_type": "stream",
     "text": [
      "第一个元素: 1\n",
      "最后一个元素: 5\n",
      "第二行: [4 5 6]\n",
      "第一行第二列元素: 2\n",
      "切片: [2 3 4]\n"
     ]
    }
   ],
   "source": [
    "## 数组索引与切片\n",
    "# 一维数组索引\n",
    "print(\"第一个元素:\", array_1d[0])\n",
    "print(\"最后一个元素:\", array_1d[-1])\n",
    "\n",
    "# 二维数组索引\n",
    "print(\"第二行:\", array_2d[1])\n",
    "print(\"第一行第二列元素:\", array_2d[0, 1])\n",
    "\n",
    "# 数组切片\n",
    "print(\"切片:\", array_1d[1:4])  # 从索引 1 到 3\n"
   ]
  },
  {
   "cell_type": "code",
   "execution_count": 10,
   "id": "59451450-c403-4da6-8a06-d47be546b3d7",
   "metadata": {},
   "outputs": [
    {
     "name": "stdout",
     "output_type": "stream",
     "text": [
      "加法结果: [11 12 13 14 15]\n",
      "乘法结果: [ 2  4  6  8 10]\n",
      "数组和: 15\n",
      "数组均值: 3.0\n",
      "数组最大值: 5\n"
     ]
    }
   ],
   "source": [
    "## 数组运算\n",
    "# 数组加法\n",
    "array_sum = array_1d + 10\n",
    "print(\"加法结果:\", array_sum)\n",
    "\n",
    "# 数组乘法\n",
    "array_product = array_1d * 2\n",
    "print(\"乘法结果:\", array_product)\n",
    "\n",
    "# 计算数组的和、均值和最大值\n",
    "print(\"数组和:\", np.sum(array_1d))\n",
    "print(\"数组均值:\", np.mean(array_1d))\n",
    "print(\"数组最大值:\", np.max(array_1d))\n"
   ]
  },
  {
   "cell_type": "code",
   "execution_count": null,
   "id": "4441b3d8-485e-4644-a559-715f3c20fe8b",
   "metadata": {},
   "outputs": [],
   "source": []
  }
 ],
 "metadata": {
  "kernelspec": {
   "display_name": "Python 3 (ipykernel)",
   "language": "python",
   "name": "python3"
  },
  "language_info": {
   "codemirror_mode": {
    "name": "ipython",
    "version": 3
   },
   "file_extension": ".py",
   "mimetype": "text/x-python",
   "name": "python",
   "nbconvert_exporter": "python",
   "pygments_lexer": "ipython3",
   "version": "3.12.4"
  }
 },
 "nbformat": 4,
 "nbformat_minor": 5
}
