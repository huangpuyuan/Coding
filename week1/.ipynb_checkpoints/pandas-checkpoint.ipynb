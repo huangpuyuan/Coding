{
 "cells": [
  {
   "cell_type": "code",
   "execution_count": 5,
   "id": "7637083e-db94-4610-8401-962bd4b4d2c3",
   "metadata": {},
   "outputs": [
    {
     "name": "stdout",
     "output_type": "stream",
     "text": [
      "Series:\n",
      " a    1\n",
      "b    2\n",
      "c    3\n",
      "d    4\n",
      "e    5\n",
      "dtype: int64\n",
      "\n",
      "DataFrame:\n",
      "       Name  Age         City\n",
      "0    Alice   25     New York\n",
      "1      Bob   30  Los Angeles\n",
      "2  Charlie   35      Chicago\n"
     ]
    }
   ],
   "source": [
    "# Pandas 是一个强大的数据处理和分析库，广泛用于数据科学和机器学习领域。它提供了灵活的数据结构和丰富的数据操作功能，使得数据清洗、处理和分析变得简单高效。\n",
    "\n",
    "# Pandas 概述\n",
    "# Pandas 主要有两个核心数据结构：\n",
    "\n",
    "# Series：一维数组，类似于 Python 的列表或 NumPy 的一维数组，具有索引。\n",
    "# DataFrame：二维表格，类似于电子表格或 SQL 表，包含行和列，支持多种数据类型。\n",
    "\n",
    "import pandas as pd\n",
    "\n",
    "# 创建一个 Series\n",
    "data_series = pd.Series([1, 2, 3, 4, 5], index=['a', 'b', 'c', 'd', 'e'])\n",
    "print(\"Series:\\n\", data_series)\n",
    "\n",
    "# 创建一个 DataFrame\n",
    "data_dict = {\n",
    "    'Name': ['Alice', 'Bob', 'Charlie'],\n",
    "    'Age': [25, 30, 35],\n",
    "    'City': ['New York', 'Los Angeles', 'Chicago']\n",
    "}\n",
    "data_frame = pd.DataFrame(data_dict)\n",
    "print(\"\\nDataFrame:\\n\", data_frame)\n"
   ]
  },
  {
   "cell_type": "code",
   "execution_count": 7,
   "id": "56c86e85-7544-4914-b8be-035ad821a290",
   "metadata": {},
   "outputs": [
    {
     "name": "stdout",
     "output_type": "stream",
     "text": [
      "data.csv 文件已创建！\n"
     ]
    }
   ],
   "source": [
    "#  读取和写入数据\n",
    "# Pandas 支持多种数据格式的读取和写入，包括 CSV、Excel、SQL 等\n",
    "# 从 CSV 文件读取数据\n",
    "\n",
    "# 创建 data.csv 文件\n",
    "# 第一步 创建一个 DataFrame\n",
    "data = {\n",
    "    'Name': ['Alice', 'Bob', 'Charlie', 'David', 'Eva', 'Frank', 'Grace', 'Hannah', 'Ivy', 'Jack'],\n",
    "    'Age': [25, 30, 35, 28, 22, 40, 30, 27, 29, 32],\n",
    "    'City': ['New York', 'Los Angeles', 'Chicago', 'Houston', 'Phoenix', \n",
    "             'Philadelphia', 'San Antonio', 'Dallas', 'San Diego', 'San Jose'],\n",
    "    'Score': [85, 90, 95, 80, 88, 75, 92, 78, 85, 91]\n",
    "}\n",
    "\n",
    "df = pd.DataFrame(data)\n",
    "\n",
    "# 将 DataFrame 写入 CSV 文件\n",
    "df.to_csv('data.csv', index=False)\n",
    "\n",
    "print(\"data.csv 文件已创建！\")"
   ]
  },
  {
   "cell_type": "code",
   "execution_count": 9,
   "id": "c5954144-d954-47d8-95af-5c5bbedee5c2",
   "metadata": {},
   "outputs": [
    {
     "name": "stdout",
     "output_type": "stream",
     "text": [
      "      Name  Age          City  Score\n",
      "0    Alice   25      New York     85\n",
      "1      Bob   30   Los Angeles     90\n",
      "2  Charlie   35       Chicago     95\n",
      "3    David   28       Houston     80\n",
      "4      Eva   22       Phoenix     88\n",
      "5    Frank   40  Philadelphia     75\n",
      "6    Grace   30   San Antonio     92\n",
      "7   Hannah   27        Dallas     78\n",
      "8      Ivy   29     San Diego     85\n",
      "9     Jack   32      San Jose     91\n"
     ]
    }
   ],
   "source": [
    "# 读取 CSV 文件\n",
    "df = pd.read_csv('data.csv')\n",
    "\n",
    "# 显示数据\n",
    "print(df)"
   ]
  },
  {
   "cell_type": "code",
   "execution_count": 11,
   "id": "8ca9a915-7c89-48d2-b092-0e240ce3d2d4",
   "metadata": {},
   "outputs": [
    {
     "name": "stdout",
     "output_type": "stream",
     "text": [
      "\n",
      "选择 Name 列:\n",
      " 0      Alice\n",
      "1        Bob\n",
      "2    Charlie\n",
      "Name: Name, dtype: object\n",
      "\n",
      "选择 Name 和 Age 列:\n",
      "       Name  Age\n",
      "0    Alice   25\n",
      "1      Bob   30\n",
      "2  Charlie   35\n",
      "\n",
      "年龄大于 28 的人:\n",
      "       Name  Age         City\n",
      "1      Bob   30  Los Angeles\n",
      "2  Charlie   35      Chicago\n"
     ]
    }
   ],
   "source": [
    "#  数据选择与过滤\n",
    "\n",
    "# 选择列\n",
    "print(\"\\n选择 Name 列:\\n\", data_frame['Name'])\n",
    "\n",
    "# 选择多列\n",
    "print(\"\\n选择 Name 和 Age 列:\\n\", data_frame[['Name', 'Age']])\n",
    "\n",
    "# 过滤数据\n",
    "print(\"\\n年龄大于 28 的人:\\n\", data_frame[data_frame['Age'] > 28])\n"
   ]
  },
  {
   "cell_type": "code",
   "execution_count": 13,
   "id": "201fce5e-d819-4b4e-8f50-6a1e5f5cec07",
   "metadata": {},
   "outputs": [
    {
     "name": "stdout",
     "output_type": "stream",
     "text": [
      "\n",
      "缺失值:\n",
      "     Name    Age\n",
      "0  False  False\n",
      "1  False   True\n",
      "2   True  False\n",
      "\n",
      "填充缺失值:\n",
      "       Name   Age\n",
      "0    Alice  25.0\n",
      "1      Bob  30.0\n",
      "2  Unknown  35.0\n",
      "\n",
      "删除缺失值后的数据:\n",
      "     Name   Age\n",
      "0  Alice  25.0\n",
      "\n",
      "删除重复行后的数据:\n",
      "     Name  Age\n",
      "0  Alice   25\n",
      "1    Bob   30\n"
     ]
    }
   ],
   "source": [
    "# 数据清洗\n",
    "# 处理缺失值和重复值是数据清洗的重要步骤。\n",
    "\n",
    "# 创建一个包含缺失值的 DataFrame\n",
    "data_with_nan = pd.DataFrame({\n",
    "    'Name': ['Alice', 'Bob', None],\n",
    "    'Age': [25, None, 35]\n",
    "})\n",
    "\n",
    "# 查看缺失值\n",
    "print(\"\\n缺失值:\\n\", data_with_nan.isnull())\n",
    "\n",
    "# 填充缺失值\n",
    "data_with_nan_filled = data_with_nan.fillna({'Name': 'Unknown', 'Age': data_with_nan['Age'].mean()})\n",
    "print(\"\\n填充缺失值:\\n\", data_with_nan_filled)\n",
    "\n",
    "# 删除包含缺失值的行\n",
    "data_without_nan = data_with_nan.dropna()\n",
    "print(\"\\n删除缺失值后的数据:\\n\", data_without_nan)\n",
    "\n",
    "# 删除重复行\n",
    "data_with_duplicates = pd.DataFrame({\n",
    "    'Name': ['Alice', 'Bob', 'Alice'],\n",
    "    'Age': [25, 30, 25]\n",
    "})\n",
    "data_without_duplicates = data_with_duplicates.drop_duplicates()\n",
    "print(\"\\n删除重复行后的数据:\\n\", data_without_duplicates)\n"
   ]
  },
  {
   "cell_type": "code",
   "execution_count": 15,
   "id": "d5ff7787-9cda-410e-847f-3a29c2cd27c9",
   "metadata": {},
   "outputs": [
    {
     "name": "stdout",
     "output_type": "stream",
     "text": [
      "\n",
      "按 Name 分组的平均年龄和总分:\n",
      "           Age  Score\n",
      "Name                \n",
      "Alice    26.5    165\n",
      "Bob      31.0    178\n",
      "Charlie  35.0     95\n"
     ]
    }
   ],
   "source": [
    " # 数据分组与聚合\n",
    "# 创建一个 DataFrame\n",
    "data_group = pd.DataFrame({\n",
    "    'Name': ['Alice', 'Bob', 'Charlie', 'Alice', 'Bob'],\n",
    "    'Age': [25, 30, 35, 28, 32],\n",
    "    'Score': [85, 90, 95, 80, 88]\n",
    "})\n",
    "\n",
    "# 按 Name 分组并计算平均年龄和总分\n",
    "grouped_data = data_group.groupby('Name').agg({'Age': 'mean', 'Score': 'sum'})\n",
    "print(\"\\n按 Name 分组的平均年龄和总分:\\n\", grouped_data)\n"
   ]
  },
  {
   "cell_type": "code",
   "execution_count": 17,
   "id": "879e07fa-13d3-4a7a-ae20-e2b2ba5a7be6",
   "metadata": {},
   "outputs": [
    {
     "name": "stdout",
     "output_type": "stream",
     "text": [
      "\n",
      "纵向合并后的 DataFrame:\n",
      "       Name  Age\n",
      "0    Alice   25\n",
      "1      Bob   30\n",
      "2  Charlie   35\n",
      "3    David   40\n",
      "\n",
      "横向合并后的 DataFrame:\n",
      "     Name  Age  Score\n",
      "0  Alice   25     85\n",
      "1    Bob   30     90\n"
     ]
    }
   ],
   "source": [
    "# 数据合并与连接\n",
    "# 创建两个 DataFrame\n",
    "df1 = pd.DataFrame({\n",
    "    'Name': ['Alice', 'Bob'],\n",
    "    'Age': [25, 30]\n",
    "})\n",
    "\n",
    "df2 = pd.DataFrame({\n",
    "    'Name': ['Charlie', 'David'],\n",
    "    'Age': [35, 40]\n",
    "})\n",
    "\n",
    "# 纵向合并\n",
    "df_concat = pd.concat([df1, df2], ignore_index=True)\n",
    "print(\"\\n纵向合并后的 DataFrame:\\n\", df_concat)\n",
    "\n",
    "# 横向合并\n",
    "df3 = pd.DataFrame({\n",
    "    'Name': ['Alice', 'Bob'],\n",
    "    'Score': [85, 90]\n",
    "})\n",
    "\n",
    "df_merged = pd.merge(df1, df3, on='Name')\n",
    "print(\"\\n横向合并后的 DataFrame:\\n\", df_merged)\n"
   ]
  },
  {
   "cell_type": "code",
   "execution_count": 19,
   "id": "b9e08bc3-0e64-46b8-a05f-d843bbdb1007",
   "metadata": {},
   "outputs": [
    {
     "name": "stdout",
     "output_type": "stream",
     "text": [
      "\n",
      "按年龄降序排序:\n",
      "       Name  Age         City\n",
      "2  Charlie   35      Chicago\n",
      "1      Bob   30  Los Angeles\n",
      "0    Alice   25     New York\n"
     ]
    }
   ],
   "source": [
    "# 数据排序\n",
    "# 按年龄排序\n",
    "sorted_data = data_frame.sort_values(by='Age', ascending=False)\n",
    "print(\"\\n按年龄降序排序:\\n\", sorted_data)\n"
   ]
  },
  {
   "cell_type": "code",
   "execution_count": null,
   "id": "34228a87-c407-4425-9fef-ed74aa18827e",
   "metadata": {},
   "outputs": [],
   "source": [
    "# 数据透视表\n"
   ]
  }
 ],
 "metadata": {
  "kernelspec": {
   "display_name": "Python 3 (ipykernel)",
   "language": "python",
   "name": "python3"
  },
  "language_info": {
   "codemirror_mode": {
    "name": "ipython",
    "version": 3
   },
   "file_extension": ".py",
   "mimetype": "text/x-python",
   "name": "python",
   "nbconvert_exporter": "python",
   "pygments_lexer": "ipython3",
   "version": "3.12.4"
  }
 },
 "nbformat": 4,
 "nbformat_minor": 5
}
