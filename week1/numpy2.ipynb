{
 "cells": [
  {
   "cell_type": "code",
   "execution_count": 1,
   "id": "3eff4482-9d7e-44ab-a99c-48c19563c80f",
   "metadata": {},
   "outputs": [
    {
     "name": "stdout",
     "output_type": "stream",
     "text": [
      "平方: [ 1  4  9 16 25]\n",
      "平方根: [1.         1.41421356 1.73205081 2.         2.23606798]\n",
      "正弦: [ 0.84147098  0.90929743  0.14112001 -0.7568025  -0.95892427]\n",
      "大于3的布尔数组: [False False False  True  True]\n"
     ]
    }
   ],
   "source": [
    "# NumPy 通用函数（ufuncs）\n",
    "import numpy as np\n",
    "\n",
    "# 创建数组\n",
    "array = np.array([1, 2, 3, 4, 5])\n",
    "\n",
    "# 数学函数\n",
    "print(\"平方:\", np.square(array))  # 每个元素平方\n",
    "print(\"平方根:\", np.sqrt(array))  # 每个元素的平方根\n",
    "print(\"正弦:\", np.sin(array))      # 每个元素的正弦值\n",
    "\n",
    "# 逻辑函数\n",
    "print(\"大于3的布尔数组:\", np.greater(array, 3))  # 判断每个元素是否大于 3\n"
   ]
  },
  {
   "cell_type": "code",
   "execution_count": 3,
   "id": "748bf054-91e4-4201-9430-2d7dce53e81a",
   "metadata": {},
   "outputs": [
    {
     "name": "stdout",
     "output_type": "stream",
     "text": [
      "广播结果:\n",
      " [[11 12 13]\n",
      " [21 22 23]\n",
      " [31 32 33]]\n"
     ]
    }
   ],
   "source": [
    "#  广播（Broadcasting）\n",
    "# 创建数组\n",
    "a = np.array([1, 2, 3])\n",
    "b = np.array([[10], [20], [30]])\n",
    "\n",
    "# 广播\n",
    "result = a + b\n",
    "print(\"广播结果:\\n\", result)\n"
   ]
  },
  {
   "cell_type": "code",
   "execution_count": 5,
   "id": "c08107b3-db41-44bd-bdfb-79a73cb9697a",
   "metadata": {},
   "outputs": [
    {
     "name": "stdout",
     "output_type": "stream",
     "text": [
      "相等比较: [False  True False False]\n",
      "大于比较: [False False  True  True]\n",
      "小于等于比较: [ True  True False False]\n"
     ]
    }
   ],
   "source": [
    "#比较\n",
    "# 创建数组\n",
    "array1 = np.array([1, 2, 3, 4])\n",
    "array2 = np.array([3, 2, 1, 0])\n",
    "\n",
    "# 比较\n",
    "print(\"相等比较:\", array1 == array2)  # 元素相等\n",
    "print(\"大于比较:\", array1 > array2)    # 元素大于\n",
    "print(\"小于等于比较:\", array1 <= array2)  # 元素小于等于\n"
   ]
  },
  {
   "cell_type": "code",
   "execution_count": 7,
   "id": "8df07e0b-5a4f-4398-bed3-28bc483f6103",
   "metadata": {},
   "outputs": [
    {
     "name": "stdout",
     "output_type": "stream",
     "text": [
      "大于3的元素: [4 5 6]\n"
     ]
    }
   ],
   "source": [
    "#掩码布尔逻辑\n",
    "# 创建数组\n",
    "array = np.array([1, 2, 3, 4, 5, 6])\n",
    "\n",
    "# 创建布尔掩码\n",
    "mask = array > 3\n",
    "\n",
    "# 使用掩码选择元素\n",
    "filtered_array = array[mask]\n",
    "print(\"大于3的元素:\", filtered_array)\n"
   ]
  },
  {
   "cell_type": "code",
   "execution_count": 9,
   "id": "ce634246-a373-4e49-8de3-46fa451212a4",
   "metadata": {},
   "outputs": [
    {
     "name": "stdout",
     "output_type": "stream",
     "text": [
      "花哨的索引结果: [10 30 50]\n"
     ]
    }
   ],
   "source": [
    "#花哨的索引（Fancy Indexing）\n",
    "# 创建数组\n",
    "array = np.array([10, 20, 30, 40, 50])\n",
    "\n",
    "# 花哨的索引\n",
    "indices = [0, 2, 4]\n",
    "fancy_indexed_array = array[indices]\n",
    "print(\"花哨的索引结果:\", fancy_indexed_array)\n"
   ]
  },
  {
   "cell_type": "code",
   "execution_count": 11,
   "id": "016f854e-15d0-42d8-925d-e94eabeb4072",
   "metadata": {},
   "outputs": [
    {
     "name": "stdout",
     "output_type": "stream",
     "text": [
      "排序结果: [1 2 3 4 5]\n",
      "排序索引: [1 2 0 4 3]\n",
      "按索引排序: [1 2 3 4 5]\n"
     ]
    }
   ],
   "source": [
    "#排序\n",
    "# 创建数组\n",
    "array = np.array([3, 1, 2, 5, 4])\n",
    "\n",
    "# 排序\n",
    "sorted_array = np.sort(array)\n",
    "print(\"排序结果:\", sorted_array)\n",
    "\n",
    "# 获取排序后的索引\n",
    "sorted_indices = np.argsort(array)\n",
    "print(\"排序索引:\", sorted_indices)\n",
    "\n",
    "# 按照索引重新排列数组\n",
    "sorted_by_index = array[sorted_indices]\n",
    "print(\"按索引排序:\", sorted_by_index)\n"
   ]
  },
  {
   "cell_type": "code",
   "execution_count": 13,
   "id": "00c703f6-fc96-4373-9ebe-0a8c65225958",
   "metadata": {},
   "outputs": [
    {
     "name": "stdout",
     "output_type": "stream",
     "text": [
      "姓名: ['Alice' 'Bob']\n",
      "年龄: [25 30]\n",
      "身高: [5.5 6. ]\n"
     ]
    }
   ],
   "source": [
    "#结构化数组\n",
    "# 定义结构化数组的数据类型\n",
    "dtype = np.dtype([('name', 'U10'), ('age', 'i4'), ('height', 'f4')])\n",
    "\n",
    "# 创建结构化数组\n",
    "structured_array = np.array([('Alice', 25, 5.5), ('Bob', 30, 6.0)], dtype=dtype)\n",
    "\n",
    "# 访问结构化数组的字段\n",
    "print(\"姓名:\", structured_array['name'])\n",
    "print(\"年龄:\", structured_array['age'])\n",
    "print(\"身高:\", structured_array['height'])\n"
   ]
  },
  {
   "cell_type": "code",
   "execution_count": null,
   "id": "37f81f05-a381-4d5f-8ce6-d8f0f755e5e3",
   "metadata": {},
   "outputs": [],
   "source": []
  }
 ],
 "metadata": {
  "kernelspec": {
   "display_name": "Python 3 (ipykernel)",
   "language": "python",
   "name": "python3"
  },
  "language_info": {
   "codemirror_mode": {
    "name": "ipython",
    "version": 3
   },
   "file_extension": ".py",
   "mimetype": "text/x-python",
   "name": "python",
   "nbconvert_exporter": "python",
   "pygments_lexer": "ipython3",
   "version": "3.12.4"
  }
 },
 "nbformat": 4,
 "nbformat_minor": 5
}
